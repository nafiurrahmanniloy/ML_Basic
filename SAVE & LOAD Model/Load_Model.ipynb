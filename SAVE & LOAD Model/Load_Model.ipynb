{
 "cells": [
  {
   "cell_type": "markdown",
   "id": "515e278e-3dbd-432e-b53a-a161c1deeca2",
   "metadata": {},
   "source": [
    "# Load Pickle saved Model"
   ]
  },
  {
   "cell_type": "code",
   "execution_count": 3,
   "id": "db716f15-76a6-4e8d-b311-294f7bd26a05",
   "metadata": {},
   "outputs": [],
   "source": [
    "import pandas as pd\n",
    "import pickle"
   ]
  },
  {
   "cell_type": "code",
   "execution_count": 7,
   "id": "f55b7b4d-a39b-46da-8c86-27decbb613bc",
   "metadata": {},
   "outputs": [],
   "source": [
    "with open('model_pickle','rb') as file:    #rb--> read binary\n",
    "    mod=pickle.load(file) #mod is model name"
   ]
  },
  {
   "cell_type": "code",
   "execution_count": 9,
   "id": "941bf8a5-8380-4912-9d70-a1c5deed96e4",
   "metadata": {},
   "outputs": [
    {
     "name": "stderr",
     "output_type": "stream",
     "text": [
      "C:\\Users\\nafiu\\anaconda3\\Lib\\site-packages\\sklearn\\base.py:493: UserWarning: X does not have valid feature names, but LinearRegression was fitted with feature names\n",
      "  warnings.warn(\n"
     ]
    },
    {
     "data": {
      "text/plain": [
       "array([866344.17808219])"
      ]
     },
     "execution_count": 9,
     "metadata": {},
     "output_type": "execute_result"
    }
   ],
   "source": [
    "mod.predict([[5050]])"
   ]
  },
  {
   "cell_type": "code",
   "execution_count": 11,
   "id": "00ed910c-ddfa-4d00-b3ae-3e5a3317b90f",
   "metadata": {},
   "outputs": [
    {
     "data": {
      "text/plain": [
       "array([135.78767123])"
      ]
     },
     "execution_count": 11,
     "metadata": {},
     "output_type": "execute_result"
    }
   ],
   "source": [
    "mod.coef_"
   ]
  },
  {
   "cell_type": "markdown",
   "id": "aa620554-c3d9-4568-a87c-e2c5d768a6e8",
   "metadata": {},
   "source": [
    "# Load Model using Joblib"
   ]
  },
  {
   "cell_type": "code",
   "execution_count": 16,
   "id": "a7f8a71c-6056-48da-86e5-89cbc66f0e55",
   "metadata": {},
   "outputs": [],
   "source": [
    "import joblib as jbl\n",
    "mymodel=jbl.load('My_jobModel')"
   ]
  },
  {
   "cell_type": "code",
   "execution_count": 18,
   "id": "698f309d-0491-41a1-ad35-8164be0d3b5b",
   "metadata": {},
   "outputs": [
    {
     "data": {
      "text/plain": [
       "180616.43835616432"
      ]
     },
     "execution_count": 18,
     "metadata": {},
     "output_type": "execute_result"
    }
   ],
   "source": [
    "mymodel.intercept_"
   ]
  },
  {
   "cell_type": "code",
   "execution_count": 20,
   "id": "37dc2e16-e585-4c91-b42c-aadd610c6fdb",
   "metadata": {},
   "outputs": [
    {
     "name": "stderr",
     "output_type": "stream",
     "text": [
      "C:\\Users\\nafiu\\anaconda3\\Lib\\site-packages\\sklearn\\base.py:493: UserWarning: X does not have valid feature names, but LinearRegression was fitted with feature names\n",
      "  warnings.warn(\n"
     ]
    },
    {
     "data": {
      "text/plain": [
       "array([866344.17808219])"
      ]
     },
     "execution_count": 20,
     "metadata": {},
     "output_type": "execute_result"
    }
   ],
   "source": [
    "mymodel.predict([[5050]])"
   ]
  },
  {
   "cell_type": "code",
   "execution_count": null,
   "id": "2765a2f2-7c1c-4a73-afd2-110440fc2284",
   "metadata": {},
   "outputs": [],
   "source": []
  }
 ],
 "metadata": {
  "kernelspec": {
   "display_name": "Python 3 (ipykernel)",
   "language": "python",
   "name": "python3"
  },
  "language_info": {
   "codemirror_mode": {
    "name": "ipython",
    "version": 3
   },
   "file_extension": ".py",
   "mimetype": "text/x-python",
   "name": "python",
   "nbconvert_exporter": "python",
   "pygments_lexer": "ipython3",
   "version": "3.12.7"
  }
 },
 "nbformat": 4,
 "nbformat_minor": 5
}
