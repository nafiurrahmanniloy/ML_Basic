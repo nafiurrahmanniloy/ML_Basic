{
 "cells": [
  {
   "cell_type": "markdown",
   "id": "e339d0b6-8d5f-43fe-8369-177ca864aec8",
   "metadata": {},
   "source": [
    "***Interact with image using events***"
   ]
  },
  {
   "cell_type": "code",
   "execution_count": 1,
   "id": "a54b054f-8c3e-420a-b670-3df182f4538f",
   "metadata": {},
   "outputs": [],
   "source": [
    "import cv2\n",
    "import numpy as np"
   ]
  },
  {
   "cell_type": "code",
   "execution_count": 3,
   "id": "3fb45ff1-c23b-4a03-b930-c711535d52be",
   "metadata": {},
   "outputs": [],
   "source": [
    "flag=False\n",
    "loc_x=-1\n",
    "loc_y=-1\n",
    "\n",
    "def draw(event, x, y, flags, params):\n",
    "    global flag,loc_x,loc_y\n",
    "    \n",
    "    if event == 1:  \n",
    "        #cv2.circle(img, center=(x, y), radius=50, color=(0, 0, 255), thickness=-1)-> for circle\n",
    "        flag=True\n",
    "        loc_x=x\n",
    "        loc_y=y\n",
    "        \n",
    "    elif event==0:\n",
    "        if flag==True:\n",
    "            cv2.rectangle(img,pt1=(loc_x,loc_y),pt2=(x,y),color=(0,0,255),thickness=-1)\n",
    "    \n",
    "\n",
    "    elif event==4:\n",
    "        flag=False\n",
    "        cv2.rectangle(img,pt1=(loc_x,loc_y),pt2=(x,y),color=(0,0,255),thickness=-1)\n",
    "\n",
    "cv2.namedWindow(winname='window')\n",
    "cv2.setMouseCallback('window', draw)"
   ]
  },
  {
   "cell_type": "code",
   "execution_count": 5,
   "id": "c1c7dc9b-ba42-407c-9a45-cd182ac3d78f",
   "metadata": {},
   "outputs": [],
   "source": [
    "img= np.zeros((512,512,3)) #create img"
   ]
  },
  {
   "cell_type": "code",
   "execution_count": 7,
   "id": "a6232819-b2cc-4d2a-b70e-4502f432b327",
   "metadata": {},
   "outputs": [],
   "source": [
    "\n",
    "\n",
    "while True:\n",
    "    cv2.imshow('window',img)\n",
    "    if cv2.waitKey(1) & 0xFF== ord('x'):  #press 'x' key\n",
    "        break;\n",
    "cv2.destroyAllWindows()\n",
    "\n",
    "\n"
   ]
  },
  {
   "cell_type": "code",
   "execution_count": null,
   "id": "8b3f55a4-4f16-4631-b965-38427d860ef8",
   "metadata": {},
   "outputs": [],
   "source": []
  }
 ],
 "metadata": {
  "kernelspec": {
   "display_name": "Python 3 (ipykernel)",
   "language": "python",
   "name": "python3"
  },
  "language_info": {
   "codemirror_mode": {
    "name": "ipython",
    "version": 3
   },
   "file_extension": ".py",
   "mimetype": "text/x-python",
   "name": "python",
   "nbconvert_exporter": "python",
   "pygments_lexer": "ipython3",
   "version": "3.12.7"
  }
 },
 "nbformat": 4,
 "nbformat_minor": 5
}
