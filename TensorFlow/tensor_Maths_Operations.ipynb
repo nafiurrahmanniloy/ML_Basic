{
 "cells": [
  {
   "cell_type": "code",
   "execution_count": 1,
   "id": "3a21cf5c-24ae-4f50-acd9-8ad0d38f88f9",
   "metadata": {},
   "outputs": [],
   "source": [
    "import tensorflow as tf"
   ]
  },
  {
   "cell_type": "code",
   "execution_count": 7,
   "id": "dce15823-125c-498e-bf23-02474ee6e6a3",
   "metadata": {},
   "outputs": [
    {
     "data": {
      "text/plain": [
       "<tf.Tensor: shape=(4,), dtype=int32, numpy=array([ 2,  2, 22, 45])>"
      ]
     },
     "execution_count": 7,
     "metadata": {},
     "output_type": "execute_result"
    }
   ],
   "source": [
    "x_abs=tf.constant([-2,2,-22,45])  #canverts all neg value to pos.\n",
    "tf.abs(x_abs)"
   ]
  },
  {
   "cell_type": "code",
   "execution_count": 17,
   "id": "c0b35145-6848-442a-8936-885ce93d774f",
   "metadata": {},
   "outputs": [
    {
     "data": {
      "text/plain": [
       "<tf.Tensor: shape=(1,), dtype=float64, numpy=array([4.97393205])>"
      ]
     },
     "execution_count": 17,
     "metadata": {},
     "output_type": "execute_result"
    }
   ],
   "source": [
    "x_complex=tf.constant([-2.5-4.3j])  #sqrt(x^2+y^2)\n",
    "tf.abs(x_complex)"
   ]
  },
  {
   "cell_type": "code",
   "execution_count": 15,
   "id": "9c22b15b-1f6f-4173-bed7-e5f59783d0d9",
   "metadata": {},
   "outputs": [
    {
     "data": {
      "text/plain": [
       "<tf.Tensor: shape=(), dtype=float32, numpy=4.973931789398193>"
      ]
     },
     "execution_count": 15,
     "metadata": {},
     "output_type": "execute_result"
    }
   ],
   "source": [
    "tf.sqrt((-2.5)**2+(4.3)**2)"
   ]
  },
  {
   "cell_type": "code",
   "execution_count": 25,
   "id": "d15a5ba4-6aae-4f9e-9ccf-7bd7838cc43e",
   "metadata": {},
   "outputs": [
    {
     "name": "stdout",
     "output_type": "stream",
     "text": [
      "tf.Tensor([ -4   4 -44  45], shape=(4,), dtype=int32)\n",
      "tf.Tensor([ 1.  1.  1. inf], shape=(4,), dtype=float64)\n",
      "tf.Tensor([1. 1. 1. 0.], shape=(4,), dtype=float64)\n"
     ]
    }
   ],
   "source": [
    "x_1=tf.constant([-2,2,-22,45]) \n",
    "x_2=tf.constant([-2,2,-22,0]) \n",
    "print(tf.add(x_1,x_2))\n",
    "print(tf.divide(x_1,x_2))\n",
    "print(tf.math.divide_no_nan(x_1,x_2)) #no_nan--> gives output without inf.\n",
    "\n"
   ]
  },
  {
   "cell_type": "code",
   "execution_count": 37,
   "id": "75e75d50-98ed-42bd-bb3a-aa71a4a4be6e",
   "metadata": {},
   "outputs": [
    {
     "name": "stdout",
     "output_type": "stream",
     "text": [
      "tf.Tensor(\n",
      "[[ -4   4 -44  45]\n",
      " [  0   5 -16   7]], shape=(2, 4), dtype=int32)\n"
     ]
    }
   ],
   "source": [
    "x_1=tf.constant([[-2,2,-22,45],[2,3,6,7]]) \n",
    "x_2=tf.constant([-2,2,-22,0]) \n",
    "print(tf.add(x_1,x_2))"
   ]
  },
  {
   "cell_type": "markdown",
   "id": "02f8717b-d8b0-4c85-96be-d0c16ba767e6",
   "metadata": {},
   "source": [
    "**Tf automacally strach the array to do any math operation**"
   ]
  },
  {
   "cell_type": "code",
   "execution_count": 42,
   "id": "d8221997-ead4-4a2e-ac8d-3e5b23be2d45",
   "metadata": {},
   "outputs": [
    {
     "data": {
      "text/plain": [
       "<tf.Tensor: shape=(4,), dtype=int32, numpy=array([ -3,   2, -72,   0])>"
      ]
     },
     "execution_count": 42,
     "metadata": {},
     "output_type": "execute_result"
    }
   ],
   "source": [
    "x_1=tf.constant([-2,2,-22,45]) \n",
    "x_2=tf.constant([-3,4,-72,0])\n",
    "tf.math.minimum(x_1,x_2)"
   ]
  },
  {
   "cell_type": "code",
   "execution_count": 82,
   "id": "b60e26a7-2c6a-40e9-9a69-32660db7af48",
   "metadata": {},
   "outputs": [
    {
     "name": "stdout",
     "output_type": "stream",
     "text": [
      "(3, 3)\n",
      "tf.Tensor([1 2 2], shape=(3,), dtype=int64) 0\n",
      "tf.Tensor([0 0 0], shape=(3,), dtype=int64) 1\n"
     ]
    }
   ],
   "source": [
    "x_argmax=tf.constant([\n",
    "    [1,2,3],\n",
    "    [4,5,6],\n",
    "    [3,8,9]\n",
    "])\n",
    "print(x_argmax.shape)\n",
    "print(tf.math.argmax(x_argmax),0)  #return the index of the maximum value--> 0--> compare values in each columns\n",
    "print(tf.math.argmin(x_argmax),1)  #return the index of the minimum value--> 1--> campare values in each rows\n"
   ]
  },
  {
   "cell_type": "code",
   "execution_count": 84,
   "id": "4b725e50-c43b-4907-b708-57e036846806",
   "metadata": {},
   "outputs": [
    {
     "name": "stdout",
     "output_type": "stream",
     "text": [
      "tf.Tensor(3, shape=(), dtype=int64)\n"
     ]
    }
   ],
   "source": [
    "x_2=tf.constant([200,222,-222,330]) \n",
    "print(tf.math.argmax(x_2))  #return the index of the maximum value"
   ]
  },
  {
   "cell_type": "code",
   "execution_count": 88,
   "id": "15338151-2bdf-45da-8051-984d9c874669",
   "metadata": {},
   "outputs": [
    {
     "data": {
      "text/plain": [
       "<tf.Tensor: shape=(4,), dtype=bool, numpy=array([ True, False, False, False])>"
      ]
     },
     "execution_count": 88,
     "metadata": {},
     "output_type": "execute_result"
    }
   ],
   "source": [
    "#equal campares tensors\n",
    "x_1=tf.constant([-2,2,-22,45]) \n",
    "x_2=tf.constant([-2,4,-72,0])\n",
    "tf.math.equal(x_1,x_2)"
   ]
  },
  {
   "cell_type": "code",
   "execution_count": 92,
   "id": "ec4189d6-2acf-4d17-bf80-e5f1d2a4a390",
   "metadata": {},
   "outputs": [
    {
     "data": {
      "text/plain": [
       "<tf.Tensor: shape=(2, 2), dtype=int32, numpy=\n",
       "array([[ 8, 36],\n",
       "       [ 3, 64]])>"
      ]
     },
     "execution_count": 92,
     "metadata": {},
     "output_type": "execute_result"
    }
   ],
   "source": [
    "#pow\n",
    "x=tf.constant([[2,6],[3,4]])  #2^3,6^2,3^1,4^3\n",
    "y=tf.constant([[3,2],[1,3]])\n",
    "tf.pow(x,y)"
   ]
  },
  {
   "cell_type": "code",
   "execution_count": 114,
   "id": "2d44d69d-48cb-4a3a-ad76-9a6c6789b880",
   "metadata": {},
   "outputs": [
    {
     "name": "stdout",
     "output_type": "stream",
     "text": [
      "tf.Tensor([ 8 15 18], shape=(3,), dtype=int32)\n",
      "tf.Tensor([3 6 9], shape=(3,), dtype=int32)\n",
      "tf.Tensor([1 2 3], shape=(3,), dtype=int32)\n",
      "tf.Tensor([2 5 6], shape=(3,), dtype=int32)\n"
     ]
    }
   ],
   "source": [
    "#reduce sum\n",
    "x_argmax=tf.constant([\n",
    "    [1,2,3],\n",
    "    [4,5,6],\n",
    "    [3,8,9]\n",
    "])\n",
    "print(tf.math.reduce_sum(x_argmax,axis=0,keepdims=False,name=None))\n",
    "print(tf.math.reduce_max(x_argmax,axis=1,keepdims=False,name=None))\n",
    "print(tf.math.reduce_min(x_argmax,axis=0,keepdims=False,name=None))\n",
    "print(tf.math.reduce_mean(x_argmax,axis=0,keepdims=False,name=None))\n"
   ]
  },
  {
   "cell_type": "code",
   "execution_count": 116,
   "id": "666d64de-4a70-416f-ac38-cbf8d30aece3",
   "metadata": {},
   "outputs": [
    {
     "name": "stdout",
     "output_type": "stream",
     "text": [
      "tf.Tensor([2.4494898 2.4494898 2.4494898], shape=(3,), dtype=float32)\n"
     ]
    }
   ],
   "source": [
    "x_argmax = tf.constant([[1.0, 2.0, 3.0],\n",
    "                        [4.0, 5.0, 6.0],\n",
    "                        [7.0, 8.0, 9.0]])\n",
    "\n",
    "print(tf.math.reduce_std(x_argmax, axis=0))"
   ]
  },
  {
   "cell_type": "code",
   "execution_count": 120,
   "id": "653d3ebf-70d2-4de0-909d-d477dd672dba",
   "metadata": {},
   "outputs": [
    {
     "data": {
      "text/plain": [
       "TopKV2(values=<tf.Tensor: shape=(3, 2), dtype=float32, numpy=\n",
       "array([[3., 2.],\n",
       "       [6., 5.],\n",
       "       [9., 8.]], dtype=float32)>, indices=<tf.Tensor: shape=(3, 2), dtype=int32, numpy=\n",
       "array([[2, 1],\n",
       "       [2, 1],\n",
       "       [2, 1]])>)"
      ]
     },
     "execution_count": 120,
     "metadata": {},
     "output_type": "execute_result"
    }
   ],
   "source": [
    "#top_k funtion\n",
    "tf.math.top_k(x_argmax,k=2) #2nd matrix returns the index, default value of k is 1-->values are sorted."
   ]
  },
  {
   "cell_type": "code",
   "execution_count": null,
   "id": "8728403e-04a5-48d0-86dd-b34e293f42a9",
   "metadata": {},
   "outputs": [],
   "source": []
  }
 ],
 "metadata": {
  "kernelspec": {
   "display_name": "Python 3 (ipykernel)",
   "language": "python",
   "name": "python3"
  },
  "language_info": {
   "codemirror_mode": {
    "name": "ipython",
    "version": 3
   },
   "file_extension": ".py",
   "mimetype": "text/x-python",
   "name": "python",
   "nbconvert_exporter": "python",
   "pygments_lexer": "ipython3",
   "version": "3.12.7"
  }
 },
 "nbformat": 4,
 "nbformat_minor": 5
}
