{
 "cells": [
  {
   "cell_type": "code",
   "execution_count": 2,
   "id": "d7e53181-7525-4869-8cad-0d531734bb3b",
   "metadata": {},
   "outputs": [],
   "source": [
    "import tensorflow as tf"
   ]
  },
  {
   "cell_type": "code",
   "execution_count": 36,
   "id": "d17b79b6-27f6-42d5-a41b-4d8f752e369b",
   "metadata": {},
   "outputs": [
    {
     "name": "stdout",
     "output_type": "stream",
     "text": [
      "tf.Tensor([ 2 43  2  1  4  5  6  7], shape=(8,), dtype=int32)\n"
     ]
    }
   ],
   "source": [
    "tensor_indexed=tf.constant([2,43,2,1,4,5,6,7])\n",
    "print(tensor_indexed)"
   ]
  },
  {
   "cell_type": "code",
   "execution_count": 10,
   "id": "258f3e9e-f417-4cb5-bbc8-1524cdff1a7c",
   "metadata": {},
   "outputs": [
    {
     "data": {
      "text/plain": [
       "<tf.Tensor: shape=(), dtype=int32, numpy=8>"
      ]
     },
     "execution_count": 10,
     "metadata": {},
     "output_type": "execute_result"
    }
   ],
   "source": [
    "tf.size(tensor_indexed)"
   ]
  },
  {
   "cell_type": "code",
   "execution_count": 24,
   "id": "a951006f-1cff-402e-b8a4-030301a8438c",
   "metadata": {},
   "outputs": [
    {
     "name": "stdout",
     "output_type": "stream",
     "text": [
      "tf.Tensor([43  2  1], shape=(3,), dtype=int32)\n"
     ]
    }
   ],
   "source": [
    "print(tensor_indexed[1:4])"
   ]
  },
  {
   "cell_type": "code",
   "execution_count": 28,
   "id": "5d88c291-c586-4df9-9894-a7a826d507d0",
   "metadata": {},
   "outputs": [
    {
     "name": "stdout",
     "output_type": "stream",
     "text": [
      "tf.Tensor([4 6], shape=(2,), dtype=int32)\n"
     ]
    }
   ],
   "source": [
    "print(tensor_indexed[-4::2])"
   ]
  },
  {
   "cell_type": "code",
   "execution_count": 38,
   "id": "49f82e3e-8317-45e6-88f5-219f752a60bd",
   "metadata": {},
   "outputs": [
    {
     "name": "stdout",
     "output_type": "stream",
     "text": [
      "tf.Tensor([2 1 4 5], shape=(4,), dtype=int32)\n"
     ]
    }
   ],
   "source": [
    "print(tensor_indexed[2:-2])"
   ]
  },
  {
   "cell_type": "code",
   "execution_count": 57,
   "id": "b5406aef-c726-42e7-8ef6-9a21b530c9c8",
   "metadata": {},
   "outputs": [
    {
     "name": "stdout",
     "output_type": "stream",
     "text": [
      "tf.Tensor([2 1 4 5 6 7], shape=(6,), dtype=int32)\n"
     ]
    }
   ],
   "source": [
    "minindex=tensor_indexed[0]\n",
    "\n",
    "print(tensor_indexed[minindex:])"
   ]
  },
  {
   "cell_type": "code",
   "execution_count": 40,
   "id": "3737d27c-c39e-4d0d-bfb9-88e142fddf1f",
   "metadata": {},
   "outputs": [
    {
     "name": "stdout",
     "output_type": "stream",
     "text": [
      "tf.Tensor(\n",
      "[[1 2 3]\n",
      " [4 5 6]\n",
      " [7 8 9]], shape=(3, 3), dtype=int32)\n"
     ]
    }
   ],
   "source": [
    "tensor_two_d=tf.constant([\n",
    "    [1,2,3],\n",
    "    [4,5,6],\n",
    "    [7,8,9]\n",
    "])\n",
    "print(tensor_two_d)"
   ]
  },
  {
   "cell_type": "code",
   "execution_count": 42,
   "id": "2eb0b5f3-934c-4adf-a6ce-199ea25e4e16",
   "metadata": {},
   "outputs": [
    {
     "name": "stdout",
     "output_type": "stream",
     "text": [
      "tf.Tensor(\n",
      "[[1 2]\n",
      " [4 5]\n",
      " [7 8]], shape=(3, 2), dtype=int32)\n"
     ]
    }
   ],
   "source": [
    "print(tensor_two_d[0:3,0:2])"
   ]
  },
  {
   "cell_type": "code",
   "execution_count": 44,
   "id": "b65cf6d2-1dca-48b0-b529-7d26634accfd",
   "metadata": {},
   "outputs": [
    {
     "name": "stdout",
     "output_type": "stream",
     "text": [
      "tf.Tensor(\n",
      "[[1 2 3]\n",
      " [4 5 6]\n",
      " [7 8 9]], shape=(3, 3), dtype=int32)\n"
     ]
    }
   ],
   "source": [
    "print(tensor_two_d[0:3,:])"
   ]
  },
  {
   "cell_type": "code",
   "execution_count": 46,
   "id": "6e73c178-0011-4779-974f-a440a91c5698",
   "metadata": {},
   "outputs": [
    {
     "name": "stdout",
     "output_type": "stream",
     "text": [
      "tf.Tensor(\n",
      "[[1 2 3]\n",
      " [4 5 6]\n",
      " [7 8 9]], shape=(3, 3), dtype=int32)\n"
     ]
    }
   ],
   "source": [
    "print(tensor_two_d[0:3,...])"
   ]
  },
  {
   "cell_type": "markdown",
   "id": "f8ff96a5-14ec-4623-8de7-a477e54056b6",
   "metadata": {},
   "source": [
    "**For 3d we need 3 comma**"
   ]
  },
  {
   "cell_type": "code",
   "execution_count": null,
   "id": "3305e7d9-44eb-4588-a9eb-fa19cc44c843",
   "metadata": {},
   "outputs": [],
   "source": []
  }
 ],
 "metadata": {
  "kernelspec": {
   "display_name": "Python 3 (ipykernel)",
   "language": "python",
   "name": "python3"
  },
  "language_info": {
   "codemirror_mode": {
    "name": "ipython",
    "version": 3
   },
   "file_extension": ".py",
   "mimetype": "text/x-python",
   "name": "python",
   "nbconvert_exporter": "python",
   "pygments_lexer": "ipython3",
   "version": "3.12.7"
  }
 },
 "nbformat": 4,
 "nbformat_minor": 5
}
