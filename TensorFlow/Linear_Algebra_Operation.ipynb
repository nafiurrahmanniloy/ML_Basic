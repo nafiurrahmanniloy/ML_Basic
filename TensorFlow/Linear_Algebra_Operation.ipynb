{
 "cells": [
  {
   "cell_type": "code",
   "execution_count": 1,
   "id": "59030529-78d4-4f77-bbdc-bf8c2c871de0",
   "metadata": {},
   "outputs": [],
   "source": [
    "import tensorflow as tf"
   ]
  },
  {
   "cell_type": "code",
   "execution_count": 25,
   "id": "17de49b8-59d0-4d1a-acda-0fe7175d9fd4",
   "metadata": {},
   "outputs": [
    {
     "name": "stdout",
     "output_type": "stream",
     "text": [
      "(2, 3) (3, 2)\n"
     ]
    },
    {
     "data": {
      "text/plain": [
       "<tf.Tensor: shape=(2, 2), dtype=int32, numpy=\n",
       "array([[42, 42],\n",
       "       [51, 52]])>"
      ]
     },
     "execution_count": 25,
     "metadata": {},
     "output_type": "execute_result"
    }
   ],
   "source": [
    "#Multiplication\n",
    "x_1= tf.constant([[2,3,4],\n",
    "                  [6,4,3]])\n",
    "x_2= tf.constant([[2,3],\n",
    "                  [6,4],\n",
    "                  [5,6]])\n",
    "print(x_1.shape,x_2.shape)\n",
    "tf.linalg.matmul(x_1,x_2,transpose_a=False,transpose_b=False,adjoint_a=False,adjoint_b=False,a_is_sparse=False,b_is_sparse=False,output_type=None,name=None)"
   ]
  },
  {
   "cell_type": "code",
   "execution_count": 27,
   "id": "967971da-e433-46f4-9f1f-07e7b4196616",
   "metadata": {},
   "outputs": [
    {
     "name": "stdout",
     "output_type": "stream",
     "text": [
      "tf.Tensor(\n",
      "[[42 42]\n",
      " [51 52]], shape=(2, 2), dtype=int32)\n"
     ]
    }
   ],
   "source": [
    "print(x_1@x_2)  #Matrix Multiplication"
   ]
  },
  {
   "cell_type": "code",
   "execution_count": 29,
   "id": "b58aff5e-2993-4ee4-accc-6614b316e10c",
   "metadata": {},
   "outputs": [
    {
     "name": "stdout",
     "output_type": "stream",
     "text": [
      "tf.Tensor(\n",
      "[[2 6]\n",
      " [3 4]\n",
      " [4 3]], shape=(3, 2), dtype=int32)\n"
     ]
    }
   ],
   "source": [
    "print(tf.transpose(x_1))"
   ]
  },
  {
   "cell_type": "code",
   "execution_count": 35,
   "id": "6d484257-5241-4f65-a9b6-5e7d7e6b5839",
   "metadata": {},
   "outputs": [
    {
     "name": "stdout",
     "output_type": "stream",
     "text": [
      "(2, 3) (3, 2)\n"
     ]
    },
    {
     "data": {
      "text/plain": [
       "<tf.Tensor: shape=(3, 3), dtype=int32, numpy=\n",
       "array([[22, 36, 46],\n",
       "       [18, 34, 39],\n",
       "       [17, 36, 38]])>"
      ]
     },
     "execution_count": 35,
     "metadata": {},
     "output_type": "execute_result"
    }
   ],
   "source": [
    "#transpose\n",
    "x_1= tf.constant([[2,3,4],\n",
    "                  [6,4,3]])\n",
    "x_2= tf.constant([[2,3],\n",
    "                  [6,4],\n",
    "                  [5,6]])\n",
    "print(x_1.shape,x_2.shape)\n",
    "tf.linalg.matmul(x_1,x_2,transpose_a=True,transpose_b=True,adjoint_a=False,adjoint_b=False,a_is_sparse=False,b_is_sparse=False,output_type=None,name=None)"
   ]
  },
  {
   "cell_type": "code",
   "execution_count": 37,
   "id": "d92816ab-bd86-478f-8e85-c61a5533ec21",
   "metadata": {},
   "outputs": [
    {
     "name": "stdout",
     "output_type": "stream",
     "text": [
      "tf.Tensor(\n",
      "[[22 36 46]\n",
      " [18 34 39]\n",
      " [17 36 38]], shape=(3, 3), dtype=int32)\n"
     ]
    }
   ],
   "source": [
    "print(tf.transpose(x_1)@tf.transpose(x_2))"
   ]
  },
  {
   "cell_type": "code",
   "execution_count": 43,
   "id": "b5634822-874f-44f6-af8c-4a125f9c9e4d",
   "metadata": {},
   "outputs": [
    {
     "name": "stdout",
     "output_type": "stream",
     "text": [
      "tf.Tensor(\n",
      "[[[ 31.8  36.   42. ]\n",
      "  [ 71.4  82.8  98.7]\n",
      "  [109.2 126.  150. ]]\n",
      "\n",
      " [[150.  126.  102. ]\n",
      "  [ 96.   81.   66. ]\n",
      "  [ 42.   36.   30. ]]], shape=(2, 3, 3), dtype=float16)\n"
     ]
    }
   ],
   "source": [
    "x1= tf.constant([[[1,2,3],[4.9,5,6],[7,8,9]],[[9,8,7],[6,5,4],[3,2,1]]],dtype=tf.float16) #calculate matrix by matrix for mirror index\n",
    "x2= tf.constant([[[1,2,3],[4.9,5,6],[7,8,9]],[[9,8,7],[6,5,4],[3,2,1]]],dtype=tf.float16)\n",
    "print(tf.linalg.matmul(x1,x2))"
   ]
  },
  {
   "cell_type": "code",
   "execution_count": 49,
   "id": "79278a3f-3272-405c-acfd-5d6e74f139ef",
   "metadata": {},
   "outputs": [
    {
     "data": {
      "text/plain": [
       "<tf.Tensor: shape=(2, 3), dtype=int32, numpy=\n",
       "array([[2, 0, 0],\n",
       "       [0, 4, 0]])>"
      ]
     },
     "execution_count": 49,
     "metadata": {},
     "output_type": "execute_result"
    }
   ],
   "source": [
    "#band_part\n",
    "x_1= tf.constant([[2,3,4],\n",
    "                  [6,4,3]])\n",
    "tf.linalg.band_part(x_1,0,0) #(input,upper,lower)-->output Diagonal\n",
    "#m--rows, n--columns\n",
    "#(m-n<=lower) and (n-m<=upper)"
   ]
  },
  {
   "cell_type": "code",
   "execution_count": 51,
   "id": "a17695c2-3f55-4c48-b2a8-5adb70c5a5b1",
   "metadata": {},
   "outputs": [
    {
     "data": {
      "text/plain": [
       "<tf.Tensor: shape=(2, 3), dtype=int32, numpy=\n",
       "array([[2, 0, 0],\n",
       "       [6, 4, 0]])>"
      ]
     },
     "execution_count": 51,
     "metadata": {},
     "output_type": "execute_result"
    }
   ],
   "source": [
    "tf.linalg.band_part(x_1,-1,0) #output--> upper triangular 0"
   ]
  },
  {
   "cell_type": "code",
   "execution_count": 55,
   "id": "11b0e7b1-f2f7-4020-980c-d93f045761c1",
   "metadata": {},
   "outputs": [
    {
     "data": {
      "text/plain": [
       "<tf.Tensor: shape=(2, 3), dtype=int32, numpy=\n",
       "array([[2, 3, 4],\n",
       "       [0, 4, 3]])>"
      ]
     },
     "execution_count": 55,
     "metadata": {},
     "output_type": "execute_result"
    }
   ],
   "source": [
    "tf.linalg.band_part(x_1,0,-1) #output--> lower tirangular 0"
   ]
  },
  {
   "cell_type": "code",
   "execution_count": 57,
   "id": "14e0bc83-28a9-43a0-be39-1b773e10e19d",
   "metadata": {},
   "outputs": [
    {
     "data": {
      "text/plain": [
       "<tf.Tensor: shape=(2, 3, 3), dtype=float16, numpy=\n",
       "array([[[0., 0., 0.],\n",
       "        [0., 0., 0.],\n",
       "        [0., 0., 0.]],\n",
       "\n",
       "       [[0., 0., 0.],\n",
       "        [0., 0., 0.],\n",
       "        [0., 0., 0.]]], dtype=float16)>"
      ]
     },
     "execution_count": 57,
     "metadata": {},
     "output_type": "execute_result"
    }
   ],
   "source": [
    "#cross Product\n",
    "tf.linalg.cross(x1,x2)"
   ]
  },
  {
   "cell_type": "code",
   "execution_count": 85,
   "id": "317949fc-39ef-42a9-88d9-632a4ab575c4",
   "metadata": {},
   "outputs": [
    {
     "name": "stdout",
     "output_type": "stream",
     "text": [
      "tf.Tensor(-0.0, shape=(), dtype=float32)\n"
     ]
    }
   ],
   "source": [
    "#determinant\n",
    "x_1 = tf.constant([[2, 3, 4],\n",
    "                   [6, 4, 3],\n",
    "                   [2, 3, 4]], dtype=tf.float32)\n",
    "print(tf.linalg.det(x_1))\n"
   ]
  },
  {
   "cell_type": "code",
   "execution_count": 89,
   "id": "5c0a39dd-2f4d-403c-a1a1-82f36b36d0cb",
   "metadata": {},
   "outputs": [
    {
     "name": "stdout",
     "output_type": "stream",
     "text": [
      "Determinant: 4.0\n",
      "Inverse:\n",
      "tf.Tensor(\n",
      "[[ 0.5000001  -0.7500001   0.24999997]\n",
      " [ 2.0000002  -2.5000002  -0.5000001 ]\n",
      " [-1.5000002   2.2500002   0.2500001 ]], shape=(3, 3), dtype=float32)\n"
     ]
    }
   ],
   "source": [
    "x_1 = tf.constant([[2, 3, 4],\n",
    "                   [1, 2, 3],\n",
    "                   [3, 0, 1]], dtype=tf.float32)\n",
    "\n",
    "# Compute the determinant to check if it's non-zero-->determinant must be non zero\n",
    "det = tf.linalg.det(x_1)\n",
    "print(f\"Determinant: {det.numpy()}\")  # Non-zero determinant\n",
    "\n",
    "# Compute the inverse\n",
    "inv = tf.linalg.inv(x_1)\n",
    "print(\"Inverse:\")\n",
    "print(inv)"
   ]
  },
  {
   "cell_type": "markdown",
   "id": "10bbb835-feb5-4b2c-a0b1-4838e11e25aa",
   "metadata": {},
   "source": [
    "**inverse x non_inverse same matrix will give Idnentity matrix**"
   ]
  },
  {
   "cell_type": "code",
   "execution_count": 102,
   "id": "f49d22e8-2d06-49eb-aa8d-b00f18a1ec86",
   "metadata": {},
   "outputs": [
    {
     "name": "stdout",
     "output_type": "stream",
     "text": [
      "tf.Tensor([6.823836  2.5261471 0.2320454], shape=(3,), dtype=float32)\n",
      "tf.Tensor(\n",
      "[[ 0.78602856 -0.18210113  0.5907608 ]\n",
      " [ 0.5386413  -0.26719633 -0.7990443 ]\n",
      " [ 0.303356    0.94627964 -0.1119368 ]], shape=(3, 3), dtype=float32)\n",
      "tf.Tensor(\n",
      "[[ 0.4426786   0.8738367   0.20110895]\n",
      " [ 0.50343657 -0.4278042   0.75068986]\n",
      " [ 0.7420157  -0.23106872 -0.6293011 ]], shape=(3, 3), dtype=float32)\n"
     ]
    }
   ],
   "source": [
    "#svd--> s- tensor of singular value, u- left singualar value, v=right sigular value\n",
    "x_1 = tf.constant([[2, 3, 4],\n",
    "                   [1, 2, 3],\n",
    "                   [3, 0, 1]], dtype=tf.float32)\n",
    "s,u,v=tf.linalg.svd(x_1)\n",
    "print(s)\n",
    "print(u)\n",
    "print(v)"
   ]
  },
  {
   "cell_type": "code",
   "execution_count": null,
   "id": "6aea733f-a303-4839-803c-302168516936",
   "metadata": {},
   "outputs": [],
   "source": []
  }
 ],
 "metadata": {
  "kernelspec": {
   "display_name": "Python 3 (ipykernel)",
   "language": "python",
   "name": "python3"
  },
  "language_info": {
   "codemirror_mode": {
    "name": "ipython",
    "version": 3
   },
   "file_extension": ".py",
   "mimetype": "text/x-python",
   "name": "python",
   "nbconvert_exporter": "python",
   "pygments_lexer": "ipython3",
   "version": "3.12.7"
  }
 },
 "nbformat": 4,
 "nbformat_minor": 5
}
