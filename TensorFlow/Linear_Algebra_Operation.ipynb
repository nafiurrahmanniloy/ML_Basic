{
 "cells": [
  {
   "cell_type": "code",
   "execution_count": 17,
   "id": "6d04bffd-0e68-4769-87fa-d43594392270",
   "metadata": {},
   "outputs": [],
   "source": [
    "import tensorflow as tf"
   ]
  },
  {
   "cell_type": "code",
   "execution_count": 25,
   "id": "17de49b8-59d0-4d1a-acda-0fe7175d9fd4",
   "metadata": {},
   "outputs": [
    {
     "name": "stdout",
     "output_type": "stream",
     "text": [
      "(2, 3) (3, 2)\n"
     ]
    },
    {
     "data": {
      "text/plain": [
       "<tf.Tensor: shape=(2, 2), dtype=int32, numpy=\n",
       "array([[42, 42],\n",
       "       [51, 52]])>"
      ]
     },
     "execution_count": 25,
     "metadata": {},
     "output_type": "execute_result"
    }
   ],
   "source": [
    "#Multiplication\n",
    "x_1= tf.constant([[2,3,4],\n",
    "                  [6,4,3]])\n",
    "x_2= tf.constant([[2,3],\n",
    "                  [6,4],\n",
    "                  [5,6]])\n",
    "print(x_1.shape,x_2.shape)\n",
    "tf.linalg.matmul(x_1,x_2,transpose_a=False,transpose_b=False,adjoint_a=False,adjoint_b=False,a_is_sparse=False,b_is_sparse=False,output_type=None,name=None)"
   ]
  },
  {
   "cell_type": "code",
   "execution_count": 27,
   "id": "967971da-e433-46f4-9f1f-07e7b4196616",
   "metadata": {},
   "outputs": [
    {
     "name": "stdout",
     "output_type": "stream",
     "text": [
      "tf.Tensor(\n",
      "[[42 42]\n",
      " [51 52]], shape=(2, 2), dtype=int32)\n"
     ]
    }
   ],
   "source": [
    "print(x_1@x_2)  #Matrix Multiplication"
   ]
  },
  {
   "cell_type": "code",
   "execution_count": 29,
   "id": "b58aff5e-2993-4ee4-accc-6614b316e10c",
   "metadata": {},
   "outputs": [
    {
     "name": "stdout",
     "output_type": "stream",
     "text": [
      "tf.Tensor(\n",
      "[[2 6]\n",
      " [3 4]\n",
      " [4 3]], shape=(3, 2), dtype=int32)\n"
     ]
    }
   ],
   "source": [
    "print(tf.transpose(x_1))"
   ]
  },
  {
   "cell_type": "code",
   "execution_count": 35,
   "id": "6d484257-5241-4f65-a9b6-5e7d7e6b5839",
   "metadata": {},
   "outputs": [
    {
     "name": "stdout",
     "output_type": "stream",
     "text": [
      "(2, 3) (3, 2)\n"
     ]
    },
    {
     "data": {
      "text/plain": [
       "<tf.Tensor: shape=(3, 3), dtype=int32, numpy=\n",
       "array([[22, 36, 46],\n",
       "       [18, 34, 39],\n",
       "       [17, 36, 38]])>"
      ]
     },
     "execution_count": 35,
     "metadata": {},
     "output_type": "execute_result"
    }
   ],
   "source": [
    "#transpose\n",
    "x_1= tf.constant([[2,3,4],\n",
    "                  [6,4,3]])\n",
    "x_2= tf.constant([[2,3],\n",
    "                  [6,4],\n",
    "                  [5,6]])\n",
    "print(x_1.shape,x_2.shape)\n",
    "tf.linalg.matmul(x_1,x_2,transpose_a=True,transpose_b=True,adjoint_a=False,adjoint_b=False,a_is_sparse=False,b_is_sparse=False,output_type=None,name=None)"
   ]
  },
  {
   "cell_type": "code",
   "execution_count": 37,
   "id": "d92816ab-bd86-478f-8e85-c61a5533ec21",
   "metadata": {},
   "outputs": [
    {
     "name": "stdout",
     "output_type": "stream",
     "text": [
      "tf.Tensor(\n",
      "[[22 36 46]\n",
      " [18 34 39]\n",
      " [17 36 38]], shape=(3, 3), dtype=int32)\n"
     ]
    }
   ],
   "source": [
    "print(tf.transpose(x_1)@tf.transpose(x_2))"
   ]
  },
  {
   "cell_type": "code",
   "execution_count": 43,
   "id": "b5634822-874f-44f6-af8c-4a125f9c9e4d",
   "metadata": {},
   "outputs": [
    {
     "name": "stdout",
     "output_type": "stream",
     "text": [
      "tf.Tensor(\n",
      "[[[ 31.8  36.   42. ]\n",
      "  [ 71.4  82.8  98.7]\n",
      "  [109.2 126.  150. ]]\n",
      "\n",
      " [[150.  126.  102. ]\n",
      "  [ 96.   81.   66. ]\n",
      "  [ 42.   36.   30. ]]], shape=(2, 3, 3), dtype=float16)\n"
     ]
    }
   ],
   "source": [
    "x1= tf.constant([[[1,2,3],[4.9,5,6],[7,8,9]],[[9,8,7],[6,5,4],[3,2,1]]],dtype=tf.float16) #calculate matrix by matrix for mirror index\n",
    "x2= tf.constant([[[1,2,3],[4.9,5,6],[7,8,9]],[[9,8,7],[6,5,4],[3,2,1]]],dtype=tf.float16)\n",
    "print(tf.linalg.matmul(x1,x2))"
   ]
  },
  {
   "cell_type": "code",
   "execution_count": 49,
   "id": "79278a3f-3272-405c-acfd-5d6e74f139ef",
   "metadata": {},
   "outputs": [
    {
     "data": {
      "text/plain": [
       "<tf.Tensor: shape=(2, 3), dtype=int32, numpy=\n",
       "array([[2, 0, 0],\n",
       "       [0, 4, 0]])>"
      ]
     },
     "execution_count": 49,
     "metadata": {},
     "output_type": "execute_result"
    }
   ],
   "source": [
    "#band_part\n",
    "x_1= tf.constant([[2,3,4],\n",
    "                  [6,4,3]])\n",
    "tf.linalg.band_part(x_1,0,0) #(input,upper,lower)-->output Diagonal\n",
    "#m--rows, n--columns\n",
    "#(m-n<=lower) and (n-m<=upper)"
   ]
  },
  {
   "cell_type": "code",
   "execution_count": 51,
   "id": "a17695c2-3f55-4c48-b2a8-5adb70c5a5b1",
   "metadata": {},
   "outputs": [
    {
     "data": {
      "text/plain": [
       "<tf.Tensor: shape=(2, 3), dtype=int32, numpy=\n",
       "array([[2, 0, 0],\n",
       "       [6, 4, 0]])>"
      ]
     },
     "execution_count": 51,
     "metadata": {},
     "output_type": "execute_result"
    }
   ],
   "source": [
    "tf.linalg.band_part(x_1,-1,0) #output--> upper triangular 0"
   ]
  },
  {
   "cell_type": "code",
   "execution_count": 55,
   "id": "11b0e7b1-f2f7-4020-980c-d93f045761c1",
   "metadata": {},
   "outputs": [
    {
     "data": {
      "text/plain": [
       "<tf.Tensor: shape=(2, 3), dtype=int32, numpy=\n",
       "array([[2, 3, 4],\n",
       "       [0, 4, 3]])>"
      ]
     },
     "execution_count": 55,
     "metadata": {},
     "output_type": "execute_result"
    }
   ],
   "source": [
    "tf.linalg.band_part(x_1,0,-1) #output--> lower tirangular 0"
   ]
  },
  {
   "cell_type": "code",
   "execution_count": 57,
   "id": "14e0bc83-28a9-43a0-be39-1b773e10e19d",
   "metadata": {},
   "outputs": [
    {
     "data": {
      "text/plain": [
       "<tf.Tensor: shape=(2, 3, 3), dtype=float16, numpy=\n",
       "array([[[0., 0., 0.],\n",
       "        [0., 0., 0.],\n",
       "        [0., 0., 0.]],\n",
       "\n",
       "       [[0., 0., 0.],\n",
       "        [0., 0., 0.],\n",
       "        [0., 0., 0.]]], dtype=float16)>"
      ]
     },
     "execution_count": 57,
     "metadata": {},
     "output_type": "execute_result"
    }
   ],
   "source": [
    "#cross Product\n",
    "tf.linalg.cross(x1,x2)"
   ]
  },
  {
   "cell_type": "code",
   "execution_count": 85,
   "id": "317949fc-39ef-42a9-88d9-632a4ab575c4",
   "metadata": {},
   "outputs": [
    {
     "name": "stdout",
     "output_type": "stream",
     "text": [
      "tf.Tensor(-0.0, shape=(), dtype=float32)\n"
     ]
    }
   ],
   "source": [
    "#determinant\n",
    "x_1 = tf.constant([[2, 3, 4],\n",
    "                   [6, 4, 3],\n",
    "                   [2, 3, 4]], dtype=tf.float32)\n",
    "print(tf.linalg.det(x_1))\n"
   ]
  },
  {
   "cell_type": "code",
   "execution_count": 89,
   "id": "5c0a39dd-2f4d-403c-a1a1-82f36b36d0cb",
   "metadata": {},
   "outputs": [
    {
     "name": "stdout",
     "output_type": "stream",
     "text": [
      "Determinant: 4.0\n",
      "Inverse:\n",
      "tf.Tensor(\n",
      "[[ 0.5000001  -0.7500001   0.24999997]\n",
      " [ 2.0000002  -2.5000002  -0.5000001 ]\n",
      " [-1.5000002   2.2500002   0.2500001 ]], shape=(3, 3), dtype=float32)\n"
     ]
    }
   ],
   "source": [
    "x_1 = tf.constant([[2, 3, 4],\n",
    "                   [1, 2, 3],\n",
    "                   [3, 0, 1]], dtype=tf.float32)\n",
    "\n",
    "# Compute the determinant to check if it's non-zero-->determinant must be non zero\n",
    "det = tf.linalg.det(x_1)\n",
    "print(f\"Determinant: {det.numpy()}\")  # Non-zero determinant\n",
    "\n",
    "# Compute the inverse\n",
    "inv = tf.linalg.inv(x_1)\n",
    "print(\"Inverse:\")\n",
    "print(inv)"
   ]
  },
  {
   "cell_type": "markdown",
   "id": "10bbb835-feb5-4b2c-a0b1-4838e11e25aa",
   "metadata": {},
   "source": [
    "**inverse x non_inverse same matrix will give Idnentity matrix**"
   ]
  },
  {
   "cell_type": "code",
   "execution_count": 102,
   "id": "f49d22e8-2d06-49eb-aa8d-b00f18a1ec86",
   "metadata": {},
   "outputs": [
    {
     "name": "stdout",
     "output_type": "stream",
     "text": [
      "tf.Tensor([6.823836  2.5261471 0.2320454], shape=(3,), dtype=float32)\n",
      "tf.Tensor(\n",
      "[[ 0.78602856 -0.18210113  0.5907608 ]\n",
      " [ 0.5386413  -0.26719633 -0.7990443 ]\n",
      " [ 0.303356    0.94627964 -0.1119368 ]], shape=(3, 3), dtype=float32)\n",
      "tf.Tensor(\n",
      "[[ 0.4426786   0.8738367   0.20110895]\n",
      " [ 0.50343657 -0.4278042   0.75068986]\n",
      " [ 0.7420157  -0.23106872 -0.6293011 ]], shape=(3, 3), dtype=float32)\n"
     ]
    }
   ],
   "source": [
    "#svd--> s- tensor of singular value, u- left singualar value, v=right sigular value\n",
    "x_1 = tf.constant([[2, 3, 4],\n",
    "                   [1, 2, 3],\n",
    "                   [3, 0, 1]], dtype=tf.float32)\n",
    "s,u,v=tf.linalg.svd(x_1)\n",
    "print(s)\n",
    "print(u)\n",
    "print(v)"
   ]
  },
  {
   "cell_type": "markdown",
   "id": "dda7c2b3-2fa5-4269-b20f-dbe1cd39ed68",
   "metadata": {},
   "source": [
    "**matmul is eihsum gives same output**\n"
   ]
  },
  {
   "cell_type": "markdown",
   "id": "c96b36eb-a21a-4512-9276-6f2c1d257fa9",
   "metadata": {},
   "source": [
    "***NUMPY***"
   ]
  },
  {
   "cell_type": "code",
   "execution_count": 4,
   "id": "a4ed00e0-624f-4cf6-88fb-e2924169e40a",
   "metadata": {},
   "outputs": [],
   "source": [
    "import numpy as np"
   ]
  },
  {
   "cell_type": "code",
   "execution_count": 24,
   "id": "17075798-0920-4318-81d8-83006bb66f6c",
   "metadata": {},
   "outputs": [
    {
     "name": "stdout",
     "output_type": "stream",
     "text": [
      "Einsum C=:\n",
      "[[ 4  9 16]\n",
      " [ 1  4  9]\n",
      " [ 9  0  1]]\n"
     ]
    }
   ],
   "source": [
    "#element wise multiplication\n",
    "a = np.array([[2, 3, 4],\n",
    "                   [1, 2, 3],\n",
    "                   [3, 0, 1]])\n",
    "b = np.array([[2, 3, 4],\n",
    "                   [1, 2, 3],\n",
    "                   [3, 0, 1]])\n",
    "print(\"Einsum C=:\")\n",
    "print(np.einsum('ij,ij -> ij',a,b)) #for 3d--> batchsize=b,i,j"
   ]
  },
  {
   "cell_type": "code",
   "execution_count": 19,
   "id": "fd3c1dbc-97e3-454d-943d-a0fa5e791739",
   "metadata": {},
   "outputs": [
    {
     "data": {
      "text/plain": [
       "array([[2, 1, 3],\n",
       "       [3, 2, 0],\n",
       "       [4, 3, 1]])"
      ]
     },
     "execution_count": 19,
     "metadata": {},
     "output_type": "execute_result"
    }
   ],
   "source": [
    "a.T #transpose"
   ]
  },
  {
   "cell_type": "markdown",
   "id": "bfe3a77f-a1d2-41cb-834e-9968a7a543f7",
   "metadata": {},
   "source": [
    "***To expand dimention use---> tf.expand_dims(tesor_name,axis=0)***"
   ]
  },
  {
   "cell_type": "code",
   "execution_count": 28,
   "id": "bb2e3427-a4f1-41c5-b89b-c4e368f992e5",
   "metadata": {},
   "outputs": [
    {
     "name": "stdout",
     "output_type": "stream",
     "text": [
      "AttributeError: module 'ml_dtypes' has no attribute 'float8_e3m4'\n"
     ]
    },
    {
     "data": {
      "text/plain": [
       "<tf.Tensor: shape=(1, 3, 3), dtype=float32, numpy=\n",
       "array([[[2., 3., 4.],\n",
       "        [1., 2., 3.],\n",
       "        [3., 0., 1.]]], dtype=float32)>"
      ]
     },
     "execution_count": 28,
     "metadata": {},
     "output_type": "execute_result"
    }
   ],
   "source": [
    "x_1 = tf.constant([[2, 3, 4],\n",
    "                   [1, 2, 3],\n",
    "                   [3, 0, 1]], dtype=tf.float32)\n",
    "tf.expand_dims(x_1,axis=0)"
   ]
  },
  {
   "cell_type": "code",
   "execution_count": 44,
   "id": "244131ac-0233-47fc-b020-d1410cb505e5",
   "metadata": {},
   "outputs": [
    {
     "data": {
      "text/plain": [
       "<tf.Tensor: shape=(3, 1, 3), dtype=float32, numpy=\n",
       "array([[[2., 3., 4.]],\n",
       "\n",
       "       [[1., 2., 3.]],\n",
       "\n",
       "       [[3., 0., 1.]]], dtype=float32)>"
      ]
     },
     "execution_count": 44,
     "metadata": {},
     "output_type": "execute_result"
    }
   ],
   "source": [
    "tf.expand_dims(x_1,axis=1) #axis--> nth dim 0--> means 1st dim...so on "
   ]
  },
  {
   "cell_type": "code",
   "execution_count": 46,
   "id": "b4425fd5-d235-4ea2-841f-f9a8155fcc90",
   "metadata": {},
   "outputs": [],
   "source": [
    "x_mod=tf.expand_dims(x_1,axis=2)"
   ]
  },
  {
   "cell_type": "markdown",
   "id": "6482e403-cb9d-444b-a110-bd62dcd3278d",
   "metadata": {},
   "source": [
    "***Squeezed--> tf.squeeze(x_mod,axis=0)***"
   ]
  },
  {
   "cell_type": "markdown",
   "id": "b878551d-0cc1-4d30-be2f-070fc6afae88",
   "metadata": {},
   "source": [
    "***reshape--> tf.reshape(x_mod,[value] or [value,value])---> to modify the tensor***"
   ]
  },
  {
   "cell_type": "markdown",
   "id": "ce4b7a4f-43fd-4459-a44a-3d6c535419de",
   "metadata": {},
   "source": [
    "***Concat--->tf.concat([t1,t2],axis=0)--->axis 0=> concat in rows***"
   ]
  },
  {
   "cell_type": "code",
   "execution_count": 61,
   "id": "896b777a-9cd8-4287-94f0-3dab679e87f2",
   "metadata": {},
   "outputs": [
    {
     "name": "stdout",
     "output_type": "stream",
     "text": [
      "Concatenated along axis 0:\n",
      " [[[ 1  2]\n",
      "  [ 3  4]]\n",
      "\n",
      " [[ 5  6]\n",
      "  [ 7  8]]\n",
      "\n",
      " [[ 9 10]\n",
      "  [11 12]]\n",
      "\n",
      " [[13 14]\n",
      "  [15 16]]]\n",
      "\n",
      "Concatenated along axis 1:\n",
      " [[[ 1  2]\n",
      "  [ 3  4]\n",
      "  [ 9 10]\n",
      "  [11 12]]\n",
      "\n",
      " [[ 5  6]\n",
      "  [ 7  8]\n",
      "  [13 14]\n",
      "  [15 16]]]\n",
      "\n",
      "Concatenated along axis 2:\n",
      " [[[ 1  2  9 10]\n",
      "  [ 3  4 11 12]]\n",
      "\n",
      " [[ 5  6 13 14]\n",
      "  [ 7  8 15 16]]]\n"
     ]
    }
   ],
   "source": [
    "tensor1 = tf.constant([[[1, 2], [3, 4]], [[5, 6], [7, 8]]])  # Shape: (2, 2, 2)\n",
    "tensor2 = tf.constant([[[9, 10], [11, 12]], [[13, 14], [15, 16]]])  # Shape: (2, 2, 2)\n",
    "\n",
    "# Concatenate along axis 0\n",
    "concat_axis0 = tf.concat([tensor1, tensor2], axis=0)\n",
    "print(\"Concatenated along axis 0:\\n\", concat_axis0.numpy())\n",
    "\n",
    "# Concatenate along axis 1\n",
    "concat_axis1 = tf.concat([tensor1, tensor2], axis=1)\n",
    "print(\"\\nConcatenated along axis 1:\\n\", concat_axis1.numpy())\n",
    "\n",
    "# Concatenate along axis 2\n",
    "concat_axis2 = tf.concat([tensor1, tensor2], axis=2)\n",
    "print(\"\\nConcatenated along axis 2:\\n\", concat_axis2.numpy())"
   ]
  },
  {
   "cell_type": "markdown",
   "id": "ce79d5c7-9770-42fe-9047-0290f29247a8",
   "metadata": {},
   "source": [
    "***tf.stack([t1,t2],axis=)--->adds an extra axis---> combination of concat and expand_dims***"
   ]
  },
  {
   "cell_type": "markdown",
   "id": "eafc2330-1f41-4b99-ac36-eccb4985ede2",
   "metadata": {},
   "source": [
    "***tf.pad()-->padding***"
   ]
  },
  {
   "cell_type": "code",
   "execution_count": 69,
   "id": "2d96db63-ddbc-4933-9842-b772992bb3d7",
   "metadata": {},
   "outputs": [
    {
     "name": "stdout",
     "output_type": "stream",
     "text": [
      "Original Tensor:\n",
      " [[1 2]\n",
      " [3 4]]\n",
      "\n",
      "Padded Tensor:\n",
      " tf.Tensor(\n",
      "[[0 0 0 0 0 0]\n",
      " [0 0 1 2 0 0]\n",
      " [0 0 3 4 0 0]\n",
      " [0 0 0 0 0 0]], shape=(4, 6), dtype=int32)\n"
     ]
    }
   ],
   "source": [
    "tensor = tf.constant([[1, 2], [3, 4]])\n",
    "\n",
    "# Add padding: 1 row before and after, 2 columns before and after\n",
    "paddings = tf.constant([[1, 1], [2, 2]])   #{row,column}\n",
    "padded_tensor = tf.pad(tensor, paddings, mode='CONSTANT', constant_values=0)\n",
    "\n",
    "print(\"Original Tensor:\\n\", tensor.numpy())\n",
    "print(\"\\nPadded Tensor:\\n\", padded_tensor)"
   ]
  },
  {
   "cell_type": "markdown",
   "id": "6dc0525c-c745-4257-9361-97c2cee2c5bd",
   "metadata": {},
   "source": [
    "**tf.gather(tensor_name,[index_number]), axis=**"
   ]
  },
  {
   "cell_type": "markdown",
   "id": "8dbd8b99-9d2d-4e5d-ae82-9a2d1c557f0e",
   "metadata": {},
   "source": [
    "***tf.gather_nd(params, indeices)--> N dimentions of params***"
   ]
  },
  {
   "cell_type": "code",
   "execution_count": null,
   "id": "73abd612-c3f2-44eb-a04b-285caad1fd8e",
   "metadata": {},
   "outputs": [],
   "source": []
  }
 ],
 "metadata": {
  "kernelspec": {
   "display_name": "Python 3 (ipykernel)",
   "language": "python",
   "name": "python3"
  },
  "language_info": {
   "codemirror_mode": {
    "name": "ipython",
    "version": 3
   },
   "file_extension": ".py",
   "mimetype": "text/x-python",
   "name": "python",
   "nbconvert_exporter": "python",
   "pygments_lexer": "ipython3",
   "version": "3.12.7"
  }
 },
 "nbformat": 4,
 "nbformat_minor": 5
}
