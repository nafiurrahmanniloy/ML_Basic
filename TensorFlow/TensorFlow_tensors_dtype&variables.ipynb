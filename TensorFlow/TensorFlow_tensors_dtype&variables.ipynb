{
 "cells": [
  {
   "cell_type": "code",
   "execution_count": 1,
   "id": "9b327517-d993-4258-8ab1-b3894a75cfec",
   "metadata": {},
   "outputs": [],
   "source": [
    "import tensorflow as tf"
   ]
  },
  {
   "cell_type": "code",
   "execution_count": 5,
   "id": "cca3c568-cf21-40ff-bbd7-a0d7a8ec564e",
   "metadata": {},
   "outputs": [
    {
     "name": "stdout",
     "output_type": "stream",
     "text": [
      "tf.Tensor(4, shape=(), dtype=int32)\n"
     ]
    }
   ],
   "source": [
    "tensor_zero_d =tf.constant(4)\n",
    "print(tensor_zero_d)"
   ]
  },
  {
   "cell_type": "code",
   "execution_count": 37,
   "id": "b6892560-e786-481e-b118-d12642f9af7d",
   "metadata": {},
   "outputs": [
    {
     "name": "stdout",
     "output_type": "stream",
     "text": [
      "tf.Tensor([ 2.   0.  -3.7  4. ], shape=(4,), dtype=float32)\n"
     ]
    }
   ],
   "source": [
    "tensor_one_d= tf.constant([2,0,-3.7,4])\n",
    "print(tensor_one_d)"
   ]
  },
  {
   "cell_type": "code",
   "execution_count": 39,
   "id": "1e51f060-4f28-4b75-83a2-7d434f4b475a",
   "metadata": {},
   "outputs": [
    {
     "name": "stdout",
     "output_type": "stream",
     "text": [
      "tf.Tensor([ 2  0 -3  4], shape=(4,), dtype=int16)\n"
     ]
    }
   ],
   "source": [
    "casted_tensor_one_d=tf.cast(tensor_one_d, dtype=tf.int16)  #converted float to int\n",
    "print(casted_tensor_one_d)"
   ]
  },
  {
   "cell_type": "code",
   "execution_count": 41,
   "id": "f16000ff-3d96-4bbe-bb50-b13af35ad2bb",
   "metadata": {},
   "outputs": [
    {
     "name": "stdout",
     "output_type": "stream",
     "text": [
      "tf.Tensor([ True False  True  True], shape=(4,), dtype=bool)\n"
     ]
    }
   ],
   "source": [
    "casted_tensor_one_d=tf.cast(tensor_one_d, dtype=tf.bool)  #converted float to int\n",
    "print(casted_tensor_one_d)"
   ]
  },
  {
   "cell_type": "code",
   "execution_count": 15,
   "id": "af493fa7-62de-429a-a072-fb8fa8960129",
   "metadata": {},
   "outputs": [
    {
     "name": "stdout",
     "output_type": "stream",
     "text": [
      "tf.Tensor(\n",
      "[[1 2 3]\n",
      " [4 5 6]\n",
      " [7 8 9]], shape=(3, 3), dtype=int32)\n"
     ]
    }
   ],
   "source": [
    "tensor_two_d=tf.constant([\n",
    "    [1,2,3],\n",
    "    [4,5,6],\n",
    "    [7,8,9]\n",
    "])\n",
    "print(tensor_two_d)"
   ]
  },
  {
   "cell_type": "code",
   "execution_count": 43,
   "id": "85d16740-085a-4234-966a-0710b2e392df",
   "metadata": {},
   "outputs": [
    {
     "name": "stdout",
     "output_type": "stream",
     "text": [
      "tf.Tensor([ True  True False], shape=(3,), dtype=bool)\n"
     ]
    }
   ],
   "source": [
    "tensor_bool=tf.constant([True,True,False])\n",
    "print(tensor_bool)"
   ]
  },
  {
   "cell_type": "code",
   "execution_count": 33,
   "id": "32991c06-f401-4db0-8b9c-4b43bac7f484",
   "metadata": {},
   "outputs": [
    {
     "name": "stdout",
     "output_type": "stream",
     "text": [
      "tf.Tensor(\n",
      "[[[1.  2.  3. ]\n",
      "  [4.9 5.  6. ]\n",
      "  [7.  8.  9. ]]\n",
      "\n",
      " [[9.  8.  7. ]\n",
      "  [6.  5.  4. ]\n",
      "  [3.  2.  1. ]]], shape=(2, 3, 3), dtype=float16)\n"
     ]
    }
   ],
   "source": [
    "tensor_three_d= tf.constant([[[1,2,3],[4.9,5,6],[7,8,9]],[[9,8,7],[6,5,4],[3,2,1]]],dtype=tf.float16)\n",
    "print(tensor_three_d)"
   ]
  },
  {
   "cell_type": "code",
   "execution_count": 31,
   "id": "4ca6191c-cfa2-418a-b694-f35070fa8d93",
   "metadata": {},
   "outputs": [
    {
     "name": "stdout",
     "output_type": "stream",
     "text": [
      "(2, 3, 3)\n"
     ]
    }
   ],
   "source": [
    "print(tensor_three_d.shape)"
   ]
  },
  {
   "cell_type": "code",
   "execution_count": 23,
   "id": "9ed76f3d-f5ad-406a-bb14-40bd157b9669",
   "metadata": {},
   "outputs": [
    {
     "name": "stdout",
     "output_type": "stream",
     "text": [
      "tf.Tensor(\n",
      "[[[[1 2 3]\n",
      "   [4 5 6]\n",
      "   [7 8 9]]\n",
      "\n",
      "  [[9 8 7]\n",
      "   [6 5 4]\n",
      "   [3 2 1]]]\n",
      "\n",
      "\n",
      " [[[1 2 3]\n",
      "   [4 5 6]\n",
      "   [7 8 9]]\n",
      "\n",
      "  [[9 8 7]\n",
      "   [6 5 4]\n",
      "   [3 2 1]]]\n",
      "\n",
      "\n",
      " [[[1 2 3]\n",
      "   [4 5 6]\n",
      "   [7 8 9]]\n",
      "\n",
      "  [[9 8 7]\n",
      "   [6 5 4]\n",
      "   [3 2 1]]]], shape=(3, 2, 3, 3), dtype=int32)\n"
     ]
    }
   ],
   "source": [
    "tensor_four_d=tf.constant([[[[1,2,3],[4,5,6],[7,8,9]],[[9,8,7],[6,5,4],[3,2,1]]],[[[1,2,3],[4,5,6],[7,8,9]],[[9,8,7],[6,5,4],[3,2,1]]],[[[1,2,3],[4,5,6],[7,8,9]],[[9,8,7],[6,5,4],[3,2,1]]]])\n",
    "print(tensor_four_d)"
   ]
  },
  {
   "cell_type": "markdown",
   "id": "8c657db7-b3ee-4f65-9b1f-786629e8e358",
   "metadata": {},
   "source": [
    "**String**"
   ]
  },
  {
   "cell_type": "code",
   "execution_count": 54,
   "id": "28c16cf9-5855-4d35-bde4-c4bf4eb6575a",
   "metadata": {},
   "outputs": [
    {
     "name": "stdout",
     "output_type": "stream",
     "text": [
      "tf.Tensor([b'Hello, This code is to practice tensor dtypes and variables' b'hi'], shape=(2,), dtype=string)\n"
     ]
    }
   ],
   "source": [
    "tensor_string =tf.constant(['Hello, This code is to practice tensor dtypes and variables','hi'])\n",
    "print(tensor_string)"
   ]
  },
  {
   "cell_type": "markdown",
   "id": "08ae9adf-a5f0-427f-a002-fac729c537ff",
   "metadata": {},
   "source": [
    "**Convert numpy array into Tensor**"
   ]
  },
  {
   "cell_type": "code",
   "execution_count": 57,
   "id": "43a59885-5783-421a-8800-7257f0d5410b",
   "metadata": {},
   "outputs": [],
   "source": [
    "import numpy as np"
   ]
  },
  {
   "cell_type": "code",
   "execution_count": 59,
   "id": "f357b43d-09df-4e43-98d0-58885de4bd34",
   "metadata": {},
   "outputs": [
    {
     "data": {
      "text/plain": [
       "array([1, 2, 3])"
      ]
     },
     "execution_count": 59,
     "metadata": {},
     "output_type": "execute_result"
    }
   ],
   "source": [
    "np_array=np.array([1,2,3])\n",
    "np_array"
   ]
  },
  {
   "cell_type": "code",
   "execution_count": 61,
   "id": "6613391f-e1b3-4e1e-878a-b22d6037ad39",
   "metadata": {},
   "outputs": [
    {
     "name": "stdout",
     "output_type": "stream",
     "text": [
      "tf.Tensor([1 2 3], shape=(3,), dtype=int32)\n"
     ]
    }
   ],
   "source": [
    "converted_to_tensor = tf.convert_to_tensor(np_array)\n",
    "print(converted_to_tensor)"
   ]
  },
  {
   "cell_type": "markdown",
   "id": "19758cfc-e8fc-4231-bc56-1c912db4a373",
   "metadata": {},
   "source": [
    "**Eye method-->Construct Identity matrix**"
   ]
  },
  {
   "cell_type": "code",
   "execution_count": 93,
   "id": "d7f82c02-b5fb-4c32-8e40-b82b01ad1603",
   "metadata": {},
   "outputs": [
    {
     "name": "stdout",
     "output_type": "stream",
     "text": [
      "tf.Tensor(\n",
      "[[[1. 0. 0. 0. 0.]\n",
      "  [0. 1. 0. 0. 0.]\n",
      "  [0. 0. 1. 0. 0.]\n",
      "  [0. 0. 0. 1. 0.]\n",
      "  [0. 0. 0. 0. 1.]]\n",
      "\n",
      " [[1. 0. 0. 0. 0.]\n",
      "  [0. 1. 0. 0. 0.]\n",
      "  [0. 0. 1. 0. 0.]\n",
      "  [0. 0. 0. 1. 0.]\n",
      "  [0. 0. 0. 0. 1.]]\n",
      "\n",
      " [[1. 0. 0. 0. 0.]\n",
      "  [0. 1. 0. 0. 0.]\n",
      "  [0. 0. 1. 0. 0.]\n",
      "  [0. 0. 0. 1. 0.]\n",
      "  [0. 0. 0. 0. 1.]]\n",
      "\n",
      " [[1. 0. 0. 0. 0.]\n",
      "  [0. 1. 0. 0. 0.]\n",
      "  [0. 0. 1. 0. 0.]\n",
      "  [0. 0. 0. 1. 0.]\n",
      "  [0. 0. 0. 0. 1.]]\n",
      "\n",
      " [[1. 0. 0. 0. 0.]\n",
      "  [0. 1. 0. 0. 0.]\n",
      "  [0. 0. 1. 0. 0.]\n",
      "  [0. 0. 0. 1. 0.]\n",
      "  [0. 0. 0. 0. 1.]]], shape=(5, 5, 5), dtype=float32)\n"
     ]
    }
   ],
   "source": [
    "#Construct Identity matrix \n",
    "eye_tensor=tf.eye(\n",
    "    num_rows=5,\n",
    "    num_columns=None,\n",
    "    batch_shape=[5,],  #means three 5x5\n",
    "    dtype=tf.dtypes.float32,\n",
    "    name=None\n",
    ")\n",
    "print(eye_tensor)"
   ]
  },
  {
   "cell_type": "markdown",
   "id": "07cc1879-ea0d-4821-80d4-43838035ed07",
   "metadata": {},
   "source": [
    "**fill method**"
   ]
  },
  {
   "cell_type": "code",
   "execution_count": 124,
   "id": "8eccb344-7992-4d9c-9f4a-86e20887ecfd",
   "metadata": {},
   "outputs": [],
   "source": [
    "fill_tensor=tf.fill([2,5,3],9,name=None) #creates matrix"
   ]
  },
  {
   "cell_type": "markdown",
   "id": "56962fec-85c9-4106-8ba2-dffb01df26cb",
   "metadata": {},
   "source": [
    "**Ones method--> all value will be one**"
   ]
  },
  {
   "cell_type": "code",
   "execution_count": 120,
   "id": "0bbe9b4a-49d5-4bce-9d47-9673f417e8a3",
   "metadata": {},
   "outputs": [
    {
     "name": "stdout",
     "output_type": "stream",
     "text": [
      "tf.Tensor(\n",
      "[[[1. 1. 1.]\n",
      "  [1. 1. 1.]\n",
      "  [1. 1. 1.]\n",
      "  [1. 1. 1.]\n",
      "  [1. 1. 1.]]\n",
      "\n",
      " [[1. 1. 1.]\n",
      "  [1. 1. 1.]\n",
      "  [1. 1. 1.]\n",
      "  [1. 1. 1.]\n",
      "  [1. 1. 1.]]], shape=(2, 5, 3), dtype=float32)\n"
     ]
    }
   ],
   "source": [
    "ones_tensor=tf.ones(\n",
    "    [2,5,3],\n",
    "    dtype=tf.dtypes.float32,\n",
    "    name=None\n",
    ")\n",
    "print(ones_tensor)"
   ]
  },
  {
   "cell_type": "code",
   "execution_count": 130,
   "id": "8e37f29f-ab08-4ce8-b687-819c25bf7f13",
   "metadata": {},
   "outputs": [
    {
     "name": "stdout",
     "output_type": "stream",
     "text": [
      "tf.Tensor(\n",
      "[[[1 1 1]\n",
      "  [1 1 1]\n",
      "  [1 1 1]\n",
      "  [1 1 1]\n",
      "  [1 1 1]]\n",
      "\n",
      " [[1 1 1]\n",
      "  [1 1 1]\n",
      "  [1 1 1]\n",
      "  [1 1 1]\n",
      "  [1 1 1]]], shape=(2, 5, 3), dtype=int32)\n"
     ]
    }
   ],
   "source": [
    "ones_like=tf.ones_like(fill_tensor)\n",
    "print(ones_like)"
   ]
  },
  {
   "cell_type": "markdown",
   "id": "a921f4a8-ad3e-4d7b-b056-b7ecbf596c6b",
   "metadata": {},
   "source": [
    "**Zeros Method**"
   ]
  },
  {
   "cell_type": "code",
   "execution_count": 135,
   "id": "d84a72bc-36e1-44bc-8222-208e2fdb206f",
   "metadata": {},
   "outputs": [
    {
     "data": {
      "text/plain": [
       "<tf.Tensor: shape=(2, 5, 3), dtype=float32, numpy=\n",
       "array([[[0., 0., 0.],\n",
       "        [0., 0., 0.],\n",
       "        [0., 0., 0.],\n",
       "        [0., 0., 0.],\n",
       "        [0., 0., 0.]],\n",
       "\n",
       "       [[0., 0., 0.],\n",
       "        [0., 0., 0.],\n",
       "        [0., 0., 0.],\n",
       "        [0., 0., 0.],\n",
       "        [0., 0., 0.]]], dtype=float32)>"
      ]
     },
     "execution_count": 135,
     "metadata": {},
     "output_type": "execute_result"
    }
   ],
   "source": [
    "tf.zeros(\n",
    "    [2,5,3],                  #input type,datatype,name\n",
    "    dtype=tf.dtypes.float32,\n",
    "    name=None\n",
    ")"
   ]
  },
  {
   "cell_type": "markdown",
   "id": "ec2e6242-2f12-4fef-9496-5e78b9d7d23e",
   "metadata": {},
   "source": [
    "**Rank Method**"
   ]
  },
  {
   "cell_type": "code",
   "execution_count": 146,
   "id": "768f792d-c9d3-460a-bd50-fccc9100c9c4",
   "metadata": {},
   "outputs": [
    {
     "data": {
      "text/plain": [
       "<tf.Tensor: shape=(), dtype=int32, numpy=2>"
      ]
     },
     "execution_count": 146,
     "metadata": {},
     "output_type": "execute_result"
    }
   ],
   "source": [
    "t= tf.constant([[1,2,3],[4.9,5,6],[7,8,9]],dtype=tf.float16)\n",
    "tf.rank(t)  #returns dimention of an array"
   ]
  },
  {
   "cell_type": "code",
   "execution_count": 150,
   "id": "469a0478-bd54-44df-ba0a-47e8e552200d",
   "metadata": {},
   "outputs": [
    {
     "data": {
      "text/plain": [
       "<tf.Tensor: shape=(), dtype=int32, numpy=9>"
      ]
     },
     "execution_count": 150,
     "metadata": {},
     "output_type": "execute_result"
    }
   ],
   "source": [
    "tf.size(t) #size of an array"
   ]
  },
  {
   "cell_type": "markdown",
   "id": "2ddc9cd5-5d55-4f97-849b-1c3de10e8622",
   "metadata": {},
   "source": [
    "***Create Random tensors***"
   ]
  },
  {
   "cell_type": "code",
   "execution_count": 179,
   "id": "75dee223-15df-490c-9748-b43022cf6f1d",
   "metadata": {},
   "outputs": [
    {
     "name": "stdout",
     "output_type": "stream",
     "text": [
      "tf.Tensor(\n",
      "[[105.22321  104.77537 ]\n",
      " [103.46165   98.912895]\n",
      " [ 99.23858   99.61612 ]], shape=(3, 2), dtype=float32)\n"
     ]
    }
   ],
   "source": [
    "random_tensor=tf.random.normal(  #normal distribution\n",
    "    [3,2],\n",
    "    mean=100.0,     #mean--> values will be generated around this mean. \n",
    "    stddev=5.0,\n",
    "    dtype=tf.dtypes.float32,\n",
    "    seed=None,\n",
    "    name=None\n",
    ")\n",
    "print(random_tensor)"
   ]
  },
  {
   "cell_type": "code",
   "execution_count": 189,
   "id": "be2979f2-606c-416f-89a7-3b3cf37e4d01",
   "metadata": {},
   "outputs": [
    {
     "name": "stdout",
     "output_type": "stream",
     "text": [
      "tf.Tensor(\n",
      "[[83.17148 83.25168]\n",
      " [88.19665 83.90588]\n",
      " [85.29795 87.60572]], shape=(3, 2), dtype=float32)\n"
     ]
    }
   ],
   "source": [
    "uniform_tensor=tf.random.uniform(  #uniform distribution\n",
    "    [3,2],\n",
    "    minval=80,\n",
    "    maxval=100,\n",
    "    dtype=tf.dtypes.float32,\n",
    "    seed=None ,\n",
    "    name=None\n",
    ")\n",
    "print(uniform_tensor)"
   ]
  },
  {
   "cell_type": "code",
   "execution_count": null,
   "id": "b9a20d16-4c22-4429-8100-d9264aa54e82",
   "metadata": {},
   "outputs": [],
   "source": []
  }
 ],
 "metadata": {
  "kernelspec": {
   "display_name": "Python 3 (ipykernel)",
   "language": "python",
   "name": "python3"
  },
  "language_info": {
   "codemirror_mode": {
    "name": "ipython",
    "version": 3
   },
   "file_extension": ".py",
   "mimetype": "text/x-python",
   "name": "python",
   "nbconvert_exporter": "python",
   "pygments_lexer": "ipython3",
   "version": "3.12.7"
  }
 },
 "nbformat": 4,
 "nbformat_minor": 5
}
