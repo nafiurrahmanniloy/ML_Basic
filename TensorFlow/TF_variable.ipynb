{
 "cells": [
  {
   "cell_type": "code",
   "execution_count": 1,
   "id": "da1f28fd-544f-4f5f-a8ce-03e1706a6c63",
   "metadata": {},
   "outputs": [],
   "source": [
    "import tensorflow as tf"
   ]
  },
  {
   "cell_type": "code",
   "execution_count": 3,
   "id": "5f6441ee-4840-421e-b5b5-41c5248427cf",
   "metadata": {},
   "outputs": [],
   "source": [
    "x=tf.constant([1,2])"
   ]
  },
  {
   "cell_type": "code",
   "execution_count": 5,
   "id": "eea8e447-dbcc-4d51-ace3-941f54a20285",
   "metadata": {},
   "outputs": [
    {
     "name": "stdout",
     "output_type": "stream",
     "text": [
      "AttributeError: module 'ml_dtypes' has no attribute 'float8_e3m4'\n",
      "<tf.Variable 'var1:0' shape=(2,) dtype=int32, numpy=array([1, 2])>\n"
     ]
    }
   ],
   "source": [
    "x_var=tf.Variable(x,name='var1')\n",
    "print(x_var)"
   ]
  },
  {
   "cell_type": "code",
   "execution_count": 20,
   "id": "c90ecb88-5460-43db-b1c5-98911c6987f1",
   "metadata": {},
   "outputs": [
    {
     "data": {
      "text/plain": [
       "<tf.Variable 'UnreadVariable' shape=(2,) dtype=int32, numpy=array([-25, -34])>"
      ]
     },
     "execution_count": 20,
     "metadata": {},
     "output_type": "execute_result"
    }
   ],
   "source": [
    "x_var.assign_sub([5,8])  #updates the values"
   ]
  },
  {
   "cell_type": "code",
   "execution_count": 22,
   "id": "fb27b536-ec15-4ebf-82d4-126dbef6ff3e",
   "metadata": {},
   "outputs": [
    {
     "data": {
      "text/plain": [
       "<tf.Variable 'UnreadVariable' shape=(2,) dtype=int32, numpy=array([-20, -26])>"
      ]
     },
     "execution_count": 22,
     "metadata": {},
     "output_type": "execute_result"
    }
   ],
   "source": [
    "x_var.assign_add([5,8])"
   ]
  },
  {
   "cell_type": "code",
   "execution_count": 36,
   "id": "380396e7-2634-4000-8b49-cb4e8f1e511a",
   "metadata": {},
   "outputs": [
    {
     "name": "stdout",
     "output_type": "stream",
     "text": [
      "/job:localhost/replica:0/task:0/device:CPU:0\n",
      "/job:localhost/replica:0/task:0/device:CPU:0\n"
     ]
    }
   ],
   "source": [
    "with tf.device('GPU:0'):\n",
    "    x_var=tf.Variable(0,2)\n",
    "\n",
    "with tf.device('CPU:0'):\n",
    "    x_tensor=tf.Variable(0,2)\n",
    "print(x_var.device)\n",
    "print(x_tensor.device)\n"
   ]
  },
  {
   "cell_type": "code",
   "execution_count": null,
   "id": "f0897e04-d050-4119-9b3d-b8cc46aa0888",
   "metadata": {},
   "outputs": [],
   "source": []
  }
 ],
 "metadata": {
  "kernelspec": {
   "display_name": "Python 3 (ipykernel)",
   "language": "python",
   "name": "python3"
  },
  "language_info": {
   "codemirror_mode": {
    "name": "ipython",
    "version": 3
   },
   "file_extension": ".py",
   "mimetype": "text/x-python",
   "name": "python",
   "nbconvert_exporter": "python",
   "pygments_lexer": "ipython3",
   "version": "3.12.7"
  }
 },
 "nbformat": 4,
 "nbformat_minor": 5
}
