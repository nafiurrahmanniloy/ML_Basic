{
 "cells": [
  {
   "cell_type": "code",
   "execution_count": 2,
   "id": "47515400-82bf-487d-aa44-7334b2ed23d1",
   "metadata": {},
   "outputs": [],
   "source": [
    "import tensorflow as tf"
   ]
  },
  {
   "cell_type": "code",
   "execution_count": 4,
   "id": "07de312b-73db-4046-88b0-33b2a712d61b",
   "metadata": {},
   "outputs": [
    {
     "name": "stdout",
     "output_type": "stream",
     "text": [
      "AttributeError: module 'ml_dtypes' has no attribute 'float8_e3m4'\n",
      "tf.Tensor([b'hello' b'this is' b'a string'], shape=(3,), dtype=string)\n"
     ]
    }
   ],
   "source": [
    "tensor_string=tf.constant(['hello', 'this is', 'a string'])\n",
    "print(tensor_string)"
   ]
  },
  {
   "cell_type": "code",
   "execution_count": 18,
   "id": "495a1b64-9bf0-4569-8316-4721d6501500",
   "metadata": {},
   "outputs": [],
   "source": [
    "string=tf.strings.join(tensor_string, separator=' ')"
   ]
  },
  {
   "cell_type": "code",
   "execution_count": 20,
   "id": "a738d2ea-2a45-45ed-baf4-a73aaa382350",
   "metadata": {},
   "outputs": [
    {
     "data": {
      "text/plain": [
       "<tf.Tensor: shape=(3,), dtype=int32, numpy=array([5, 7, 8])>"
      ]
     },
     "execution_count": 20,
     "metadata": {},
     "output_type": "execute_result"
    }
   ],
   "source": [
    "tf.strings.length(tensor_string)"
   ]
  },
  {
   "cell_type": "code",
   "execution_count": 22,
   "id": "9e3c0d84-813e-47cc-ae40-f248edea00d2",
   "metadata": {},
   "outputs": [
    {
     "data": {
      "text/plain": [
       "<tf.Tensor: shape=(), dtype=string, numpy=b'hello this is a string'>"
      ]
     },
     "execution_count": 22,
     "metadata": {},
     "output_type": "execute_result"
    }
   ],
   "source": [
    "tf.strings.lower(string)"
   ]
  },
  {
   "cell_type": "code",
   "execution_count": 26,
   "id": "1826fa2d-e1d0-4633-87d2-7245a5a8b3d6",
   "metadata": {},
   "outputs": [
    {
     "data": {
      "text/plain": [
       "<tf.Tensor: shape=(), dtype=string, numpy=b'HELLO THIS IS A STRING'>"
      ]
     },
     "execution_count": 26,
     "metadata": {},
     "output_type": "execute_result"
    }
   ],
   "source": [
    "tf.strings.upper(string)"
   ]
  },
  {
   "cell_type": "code",
   "execution_count": null,
   "id": "284e75cb-12b6-46da-969b-ff4bf919c12a",
   "metadata": {},
   "outputs": [],
   "source": []
  }
 ],
 "metadata": {
  "kernelspec": {
   "display_name": "Python 3 (ipykernel)",
   "language": "python",
   "name": "python3"
  },
  "language_info": {
   "codemirror_mode": {
    "name": "ipython",
    "version": 3
   },
   "file_extension": ".py",
   "mimetype": "text/x-python",
   "name": "python",
   "nbconvert_exporter": "python",
   "pygments_lexer": "ipython3",
   "version": "3.12.7"
  }
 },
 "nbformat": 4,
 "nbformat_minor": 5
}
