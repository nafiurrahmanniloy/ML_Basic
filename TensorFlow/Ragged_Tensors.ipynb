{
 "cells": [
  {
   "cell_type": "code",
   "execution_count": 13,
   "id": "fa833c83-81fa-49b6-8141-759ecf6110d8",
   "metadata": {},
   "outputs": [],
   "source": [
    "import tensorflow as tf"
   ]
  },
  {
   "cell_type": "code",
   "execution_count": 27,
   "id": "c2d4a07d-dc09-46a5-a405-ef7b766d27a4",
   "metadata": {},
   "outputs": [
    {
     "name": "stdout",
     "output_type": "stream",
     "text": [
      "AttributeError: module 'ml_dtypes' has no attribute 'float8_e3m4'\n",
      "tf.Tensor(\n",
      "[[1 2 3]\n",
      " [4 5 6]\n",
      " [4 5 0]], shape=(3, 3), dtype=int32)\n"
     ]
    }
   ],
   "source": [
    "tensor1 = tf.constant([\n",
    "    [1, 2, 3], \n",
    "    [4, 5, 6],\n",
    "    [4, 5, 0]])\n",
    "tensor2 = [\n",
    "    [7, 8],\n",
    "    [3],\n",
    "    [9, 10,3,4,5],\n",
    "    [2,3]]\n",
    "\n",
    "print(tensor1)"
   ]
  },
  {
   "cell_type": "code",
   "execution_count": 37,
   "id": "0797462a-cdae-41be-b707-9125fd733b33",
   "metadata": {},
   "outputs": [],
   "source": [
    "tensor_ragged=tf.ragged.constant(tensor2) #does not need to be ractangular data"
   ]
  },
  {
   "cell_type": "code",
   "execution_count": 39,
   "id": "8625a197-35cd-42e8-9abf-2c8c549c7551",
   "metadata": {},
   "outputs": [
    {
     "name": "stdout",
     "output_type": "stream",
     "text": [
      "[[7, 8], [3], [9, 10, 3, 4, 5], [2, 3]]\n"
     ]
    }
   ],
   "source": [
    "print(tensor2)"
   ]
  },
  {
   "cell_type": "markdown",
   "id": "c297f497-6307-4fcf-998e-26b80103995b",
   "metadata": {},
   "source": [
    "**Bool mask**"
   ]
  },
  {
   "cell_type": "code",
   "execution_count": 44,
   "id": "2e54a516-7b2d-480b-b001-dddb7145922f",
   "metadata": {},
   "outputs": [],
   "source": [
    "# Aliases for True & False so data and mask line up.\n",
    "T, F = (True, False)"
   ]
  },
  {
   "cell_type": "code",
   "execution_count": 50,
   "id": "19568981-8385-476b-9171-1d77b38153df",
   "metadata": {},
   "outputs": [
    {
     "data": {
      "text/plain": [
       "[[1, 3], [], [7]]"
      ]
     },
     "execution_count": 50,
     "metadata": {},
     "output_type": "execute_result"
    }
   ],
   "source": [
    "tf.ragged.boolean_mask(  # Mask a 2D Tensor.\n",
    "    data=[[1, 2, 3], [4, 5, 6], [7, 8, 9]],\n",
    "    mask=[[T, F, T], [F, F, F], [T, F, F]]).to_list()"
   ]
  },
  {
   "cell_type": "code",
   "execution_count": 74,
   "id": "d1024347-a4ec-44e6-b19e-7700f8abb68e",
   "metadata": {},
   "outputs": [
    {
     "name": "stdout",
     "output_type": "stream",
     "text": [
      "<tf.RaggedTensor [[1, 2, 3, 4], [5, 6]]>\n"
     ]
    }
   ],
   "source": [
    "#row length\n",
    "print(tf.RaggedTensor.from_row_lengths(\n",
    "    values=[1, 2, 3, 4, 5, 6],\n",
    "    row_lengths=[4, 2]))"
   ]
  },
  {
   "cell_type": "markdown",
   "id": "0c66676c-55d9-4c4b-9ef5-20e65baaf100",
   "metadata": {},
   "source": [
    "**rowlimits works kindof same as index wise**"
   ]
  },
  {
   "cell_type": "markdown",
   "id": "2da56210-d8c5-41c7-80c1-49cacc58135f",
   "metadata": {},
   "source": [
    "**tf.RaggedTensor.from_row_splits(value= ,\n",
    "                                 row_splites=)**"
   ]
  },
  {
   "cell_type": "code",
   "execution_count": 81,
   "id": "a001b90b-d5ee-49e3-858a-768120438f1e",
   "metadata": {},
   "outputs": [
    {
     "data": {
      "text/plain": [
       "<tf.RaggedTensor [[5], [], [6, 0, 0]]>"
      ]
     },
     "execution_count": 81,
     "metadata": {},
     "output_type": "execute_result"
    }
   ],
   "source": [
    "dt = tf.constant([[5, 7, 0], [0, 3, 0], [6, 0, 0]])\n",
    "tf.RaggedTensor.from_tensor(dt)\n",
    "\n",
    "tf.RaggedTensor.from_tensor(dt, lengths=[1, 0, 3])"
   ]
  },
  {
   "cell_type": "code",
   "execution_count": null,
   "id": "2fd1c66f-0d7a-430f-807c-602dd7236691",
   "metadata": {},
   "outputs": [],
   "source": []
  }
 ],
 "metadata": {
  "kernelspec": {
   "display_name": "Python 3 (ipykernel)",
   "language": "python",
   "name": "python3"
  },
  "language_info": {
   "codemirror_mode": {
    "name": "ipython",
    "version": 3
   },
   "file_extension": ".py",
   "mimetype": "text/x-python",
   "name": "python",
   "nbconvert_exporter": "python",
   "pygments_lexer": "ipython3",
   "version": "3.12.7"
  }
 },
 "nbformat": 4,
 "nbformat_minor": 5
}
