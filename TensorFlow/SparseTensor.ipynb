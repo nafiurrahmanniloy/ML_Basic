{
 "cells": [
  {
   "cell_type": "code",
   "execution_count": 1,
   "id": "2e2b3115-09a4-4e2d-ace9-2182b60436e9",
   "metadata": {},
   "outputs": [],
   "source": [
    "import tensorflow as tf"
   ]
  },
  {
   "cell_type": "code",
   "execution_count": 9,
   "id": "4d813b6e-8d1a-470d-b11d-6628cff63cd2",
   "metadata": {},
   "outputs": [],
   "source": [
    "tensorSparse= tf.sparse.SparseTensor(\n",
    "    indices=[[1,1],[3,4]],values=[11,22],dense_shape=[5,6]\n",
    ")"
   ]
  },
  {
   "cell_type": "code",
   "execution_count": 11,
   "id": "6e0fb2d5-be6d-4d41-943f-d14eb9ed7fd9",
   "metadata": {},
   "outputs": [
    {
     "name": "stdout",
     "output_type": "stream",
     "text": [
      "SparseTensor(indices=tf.Tensor(\n",
      "[[1 1]\n",
      " [3 4]], shape=(2, 2), dtype=int64), values=tf.Tensor([11 22], shape=(2,), dtype=int32), dense_shape=tf.Tensor([5 6], shape=(2,), dtype=int64))\n"
     ]
    }
   ],
   "source": [
    "print(tensorSparse)"
   ]
  },
  {
   "cell_type": "code",
   "execution_count": 13,
   "id": "f7fdea80-ee3d-4aae-ba33-2883c4a0bd12",
   "metadata": {},
   "outputs": [
    {
     "data": {
      "text/plain": [
       "<tf.Tensor: shape=(5, 6), dtype=int32, numpy=\n",
       "array([[ 0,  0,  0,  0,  0,  0],\n",
       "       [ 0, 11,  0,  0,  0,  0],\n",
       "       [ 0,  0,  0,  0,  0,  0],\n",
       "       [ 0,  0,  0,  0, 22,  0],\n",
       "       [ 0,  0,  0,  0,  0,  0]])>"
      ]
     },
     "execution_count": 13,
     "metadata": {},
     "output_type": "execute_result"
    }
   ],
   "source": [
    "tf.sparse.to_dense(tensorSparse)"
   ]
  },
  {
   "cell_type": "code",
   "execution_count": null,
   "id": "5e61f725-277b-4628-8f93-5357e726baf7",
   "metadata": {},
   "outputs": [],
   "source": []
  }
 ],
 "metadata": {
  "kernelspec": {
   "display_name": "Python 3 (ipykernel)",
   "language": "python",
   "name": "python3"
  },
  "language_info": {
   "codemirror_mode": {
    "name": "ipython",
    "version": 3
   },
   "file_extension": ".py",
   "mimetype": "text/x-python",
   "name": "python",
   "nbconvert_exporter": "python",
   "pygments_lexer": "ipython3",
   "version": "3.12.7"
  }
 },
 "nbformat": 4,
 "nbformat_minor": 5
}
